{
 "cells": [
  {
   "cell_type": "markdown",
   "metadata": {},
   "source": [
    "# Kernel SHAP vs Tree SHAP\n",
    "Experiments to understand the time complexity of SHAP approximations"
   ]
  },
  {
   "cell_type": "code",
   "execution_count": null,
   "metadata": {},
   "outputs": [],
   "source": [
    "#imports\n",
    "import pandas as pd\n",
    "import numpy as np\n",
    "import matplotlib.pyplot as plt\n",
    "\n",
    "#import xgboost as xgb\n",
    "from sklearn.ensemble import RandomForestRegressor\n",
    "import sklearn.datasets as ds\n",
    "\n",
    "import datetime\n",
    "\n",
    "import shap\n",
    "shap.initjs()"
   ]
  },
  {
   "cell_type": "code",
   "execution_count": 2,
   "metadata": {},
   "outputs": [],
   "source": [
    "# Functions\n",
    "def runSHAP(n,kernel=True): \n",
    "    \"\"\"\n",
    "    Calculate shap values and return time taken\n",
    "        n: number of SHAP values to calculate\n",
    "        kernel: set False if using TreeSHAP \n",
    "    \"\"\"\n",
    "    \n",
    "    x_sample = X[np.random.choice(X.shape[0], n, replace=True)]\n",
    "    \n",
    "    begin = datetime.datetime.now()\n",
    "    if kernel:\n",
    "        #Caculate SHAP values using KernelSHAP\n",
    "        shap_values = kernelSHAP.shap_values(x_sample,l1_reg=False)\n",
    "        time = datetime.datetime.now() - begin\n",
    "        print(\"Kernel {}: \".format(n), time)\n",
    "    else:\n",
    "        #Caculate SHAP values using TreeSHAP\n",
    "        shap_values = treeSHAP(x_sample)\n",
    "        time = datetime.datetime.now() - begin\n",
    "        print(\"Tree {}: \".format(n), time)\n",
    "    \n",
    "    return time\n",
    "\n",
    "def model_properties(model):\n",
    "    \"\"\"Returns average depth and number of features and leaves of a random forest\"\"\"\n",
    "    \n",
    "    depths = []\n",
    "    features = []\n",
    "    leaves = []\n",
    "    \n",
    "    for tree in model.estimators_:\n",
    "        depths.append(tree.get_depth())\n",
    "        leaves.append(tree.get_n_leaves())\n",
    "        n_feat = len(set(tree.tree_.feature)) -1 \n",
    "        features.append(n_feat)\n",
    "        \n",
    "    return np.mean(depths), np.mean(features), np.mean(leaves)"
   ]
  },
  {
   "cell_type": "markdown",
   "metadata": {},
   "source": [
    "## Experiment 1: Number of samples"
   ]
  },
  {
   "cell_type": "code",
   "execution_count": 3,
   "metadata": {},
   "outputs": [],
   "source": [
    "#Simulate regression data\n",
    "data = ds.make_regression(n_samples=10000, n_features=10, n_informative=8, n_targets=1)\n",
    "\n",
    "y= data[1]\n",
    "X = data[0]\n",
    "\n",
    "feature_names = range(len(X))"
   ]
  },
  {
   "cell_type": "code",
   "execution_count": null,
   "metadata": {},
   "outputs": [],
   "source": [
    "#Train model\n",
    "model = RandomForestRegressor(n_estimators=100,max_depth=4,random_state=0)\n",
    "model.fit(X, y)"
   ]
  },
  {
   "cell_type": "code",
   "execution_count": 5,
   "metadata": {},
   "outputs": [],
   "source": [
    "#Get shap estimators\n",
    "kernelSHAP = shap.KernelExplainer(model.predict,shap.sample(X, 10))\n",
    "treeSHAP = shap.TreeExplainer(model)"
   ]
  },
  {
   "cell_type": "code",
   "execution_count": null,
   "metadata": {},
   "outputs": [],
   "source": [
    "results = []\n",
    "for n in [10,100,1000,2000,5000,10000]*3:\n",
    "    #Calculate SHAP Values\n",
    "    kernel_time = runSHAP(n=n)\n",
    "    tree_time = runSHAP(n=n,kernel=False)\n",
    "    \n",
    "    result = [n,kernel_time,tree_time]\n",
    "    results.append(result)\n",
    "    \n",
    "results_1 = pd.DataFrame(results,columns = ['n','kernelSHAP','treeSHAP'])"
   ]
  },
  {
   "cell_type": "code",
   "execution_count": null,
   "metadata": {},
   "outputs": [],
   "source": [
    "avg_1 = results_1.groupby(by='n',as_index=False).mean()\n",
    "avg_1"
   ]
  },
  {
   "cell_type": "code",
   "execution_count": null,
   "metadata": {},
   "outputs": [],
   "source": [
    "k_sec"
   ]
  },
  {
   "cell_type": "code",
   "execution_count": null,
   "metadata": {},
   "outputs": [],
   "source": [
    "#Find average run time\n",
    "avg_1 = results_1.groupby(by='n',as_index=False).mean()\n",
    "\n",
    "k_sec = [t.total_seconds() for t in avg_1['kernelSHAP']]\n",
    "t_sec = [t.total_seconds() for t in avg_1['treeSHAP']]\n",
    "n = avg_1['n']\n",
    "\n",
    "#Proportional run time\n",
    "print((k_sec/n)/(t_sec/n))\n",
    "\n",
    "#Plot run time by number of observations\n",
    "fig, ax = plt.subplots(nrows=1, ncols=1,figsize=(8,6))\n",
    "\n",
    "plt.plot(n, k_sec, linestyle='-', linewidth=2,marker='o',label = 'KernelSHAP')\n",
    "plt.plot(n, t_sec, linestyle='-', linewidth=2,marker='o',label = 'TreeSHAP')\n",
    "\n",
    "plt.ylabel('Time (seconds)',size=20)\n",
    "plt.xlabel('Number of observations',size=20)\n",
    "plt.legend(fontsize=15)"
   ]
  },
  {
   "cell_type": "code",
   "execution_count": null,
   "metadata": {},
   "outputs": [],
   "source": [
    "#Number of observations\n",
    "fig, ax = plt.subplots(nrows=1, ncols=1,figsize=(8,6))\n",
    "\n",
    "plt.plot(n, t_sec, linestyle='-', color='#F87F0E',linewidth=2,marker='o',label = 'TreeSHAP')\n",
    "\n",
    "plt.ylabel('Time (seconds)',size=20)\n",
    "plt.xlabel('Number of observations',size=20)\n",
    "plt.legend(fontsize=15)"
   ]
  },
  {
   "cell_type": "markdown",
   "metadata": {},
   "source": [
    "## Experiment 2: number of features\n",
    "    "
   ]
  },
  {
   "cell_type": "code",
   "execution_count": null,
   "metadata": {
    "scrolled": true
   },
   "outputs": [],
   "source": [
    "results = []\n",
    "\n",
    "for n_features, n_informative in zip([2,4,6,8,10,12,13,14,16,18,20]*3,[2,4,6,8,10,12,13,14,16,18,20]*3):\n",
    "    \n",
    "    #Simulate regression data\n",
    "    data = ds.make_regression(n_samples=10000, n_features=n_features, n_informative=n_informative, n_targets=1,noise=0.1)\n",
    "\n",
    "    y= data[1]\n",
    "    X = data[0]\n",
    "\n",
    "    feature_names = range(len(X))\n",
    "\n",
    "    #Train model\n",
    "    model = RandomForestRegressor(n_estimators=100,max_depth=10,random_state=0)\n",
    "    model.fit(X, y)\n",
    "    \n",
    "    #get model properties\n",
    "    avg_depth, avg_feat, avg_leaves = model_properties(model)\n",
    "    \n",
    "    #Get shap estimators\n",
    "    kernelSHAP = shap.KernelExplainer(model.predict,shap.sample(X, 10))\n",
    "    treeSHAP = shap.TreeExplainer(model)\n",
    "    \n",
    "    #Calculate SHAP values\n",
    "    kernel_time = runSHAP(n=100)\n",
    "    tree_time = runSHAP(n=100,kernel=False)\n",
    "    \n",
    "    result = [n_features, avg_depth, avg_feat, avg_leaves, kernel_time,tree_time]\n",
    "    results.append(result)\n",
    "\n",
    "results_2 = pd.DataFrame(results,columns = ['n_features','avg_depth', 'avg_feat', 'avg_leaves','kernelSHAP','treeSHAP'])\n"
   ]
  },
  {
   "cell_type": "code",
   "execution_count": null,
   "metadata": {},
   "outputs": [],
   "source": [
    "#Get average run time\n",
    "avg_2 = results_2[['n_features','kernelSHAP','treeSHAP']].groupby(by='n_features',as_index=False).mean()\n",
    "\n",
    "k_sec = [t.total_seconds() for t in avg_2['kernelSHAP']]\n",
    "t_sec = [t.total_seconds() for t in avg_2['treeSHAP']]\n",
    "n = avg_2['n_features']\n",
    "\n",
    "print((k_sec/n)/(t_sec/n))\n",
    "\n",
    "#Plot run time by number of features\n",
    "fig, ax = plt.subplots(nrows=1, ncols=1,figsize=(8,6))\n",
    "\n",
    "plt.plot(n, k_sec, linestyle='-', linewidth=2,marker='o',label = 'KernelSHAP')\n",
    "plt.plot(n, t_sec, linestyle='-', linewidth=2,marker='o',label = 'TreeSHAP')\n",
    "\n",
    "plt.ylabel('Time (seconds)',size=20)\n",
    "plt.xlabel('Number of features',size=20)\n",
    "plt.legend(fontsize=15)"
   ]
  },
  {
   "cell_type": "markdown",
   "metadata": {},
   "source": [
    "## Experiment 3: number of trees"
   ]
  },
  {
   "cell_type": "code",
   "execution_count": null,
   "metadata": {},
   "outputs": [],
   "source": [
    "#Simulate regression data\n",
    "data = ds.make_regression(n_samples=10000, n_features=10, n_informative=8, n_targets=1)\n",
    "\n",
    "y= data[1]\n",
    "X = data[0]\n",
    "\n",
    "feature_names = range(len(X))"
   ]
  },
  {
   "cell_type": "code",
   "execution_count": null,
   "metadata": {},
   "outputs": [],
   "source": [
    "results = []\n",
    "\n",
    "for trees in [10,20,50,100,200,500,1000]*3:\n",
    "    #Train model\n",
    "    model = RandomForestRegressor(n_estimators=trees,max_depth=4,random_state=0)\n",
    "    model.fit(X, y)\n",
    "    \n",
    "    #Get shap estimators\n",
    "    kernelSHAP = shap.KernelExplainer(model.predict,shap.sample(X, 10))\n",
    "    treeSHAP = shap.TreeExplainer(model)\n",
    "    \n",
    "    #Calculate SHAP Values\n",
    "    kernel_time = runSHAP(n=100)\n",
    "    tree_time = runSHAP(n=100,kernel=False)\n",
    "    \n",
    "    result = [trees,kernel_time,tree_time]\n",
    "    results.append(result)\n",
    "\n",
    "results_3 = pd.DataFrame(results,columns = ['trees','kernelSHAP','treeSHAP'])"
   ]
  },
  {
   "cell_type": "code",
   "execution_count": null,
   "metadata": {},
   "outputs": [],
   "source": [
    "#Get average run time\n",
    "avg_3 = results_3.groupby(by='trees',as_index=False).mean()\n",
    "\n",
    "k_sec = [t.total_seconds() for t in avg_3['kernelSHAP']]\n",
    "t_sec = [t.total_seconds() for t in avg_3['treeSHAP']]\n",
    "trees = avg_3['trees']\n",
    "\n",
    "print((k_sec/trees)/(t_sec/trees))\n",
    "\n",
    "#Plot run time by number of trees\n",
    "fig, ax = plt.subplots(nrows=1, ncols=2,figsize=(20,10))\n",
    "\n",
    "ax[0].plot(trees, k_sec, linestyle='-', linewidth=2,marker='o',label = 'KernelSHAP')\n",
    "ax[0].set_ylabel('Time (seconds)',size=20)\n",
    "ax[0].set_xlabel('Number of trees',size=20)\n",
    "ax[0].legend(fontsize=15)\n",
    "\n",
    "ax[1].plot(trees, t_sec, color='#F87F0E', linewidth=2,marker='o',label = 'TreeSHAP')\n",
    "ax[1].set_ylabel('Time (seconds)',size=20)\n",
    "ax[1].set_xlabel('Number of trees',size=20)\n",
    "ax[1].legend(fontsize=15)"
   ]
  },
  {
   "cell_type": "markdown",
   "metadata": {},
   "source": [
    "## Experiment 4: tree depth"
   ]
  },
  {
   "cell_type": "code",
   "execution_count": null,
   "metadata": {
    "scrolled": true
   },
   "outputs": [],
   "source": [
    "#Simulate regression data\n",
    "data = ds.make_regression(n_samples=10000, n_features=10, n_informative=8, n_targets=1)\n",
    "\n",
    "y= data[1]\n",
    "X = data[0]\n",
    "\n",
    "feature_names = range(len(X))\n",
    "\n",
    "results = []\n",
    "\n",
    "#for depth in [2,4,6]:\n",
    "for depth in [2,4,6,8,10,15,20]*3:\n",
    "\n",
    "    #Train model\n",
    "    model = RandomForestRegressor(n_estimators=100,max_depth=depth,random_state=0)\n",
    "    model.fit(X, y)\n",
    "    \n",
    "    #get model properties\n",
    "    avg_depth, avg_feat, avg_leaves = model_properties(model)\n",
    "    \n",
    "    #Get shap estimators\n",
    "    kernelSHAP = shap.KernelExplainer(model.predict,shap.sample(X, 10))\n",
    "    treeSHAP = shap.TreeExplainer(model)\n",
    "    \n",
    "    #Calculate SHAP values\n",
    "    kernel_time = runSHAP(n=100)\n",
    "    tree_time = runSHAP(n=100,kernel=False)\n",
    "    \n",
    "    result = [depth, avg_depth, avg_feat, avg_leaves, kernel_time,tree_time]\n",
    "    results.append(result)\n",
    "\n",
    "results_4 = pd.DataFrame(results,columns = ['depth','avg_depth', 'avg_feat', 'avg_leaves','kernelSHAP','treeSHAP'])"
   ]
  },
  {
   "cell_type": "code",
   "execution_count": null,
   "metadata": {},
   "outputs": [],
   "source": [
    "#Get average run time\n",
    "avg_4 = results_4[['depth','kernelSHAP','treeSHAP']].groupby(by='depth',as_index=False).mean()\n",
    "\n",
    "k_sec = [t.total_seconds() for t in avg_4['kernelSHAP']]\n",
    "t_sec = [t.total_seconds() for t in avg_4['treeSHAP']]\n",
    "depth = avg_4['depth']\n",
    "\n",
    "#Plot run tume by tree depth\n",
    "fig, ax = plt.subplots(nrows=1, ncols=1,figsize=(8,6))\n",
    "\n",
    "plt.plot(depth, k_sec, linestyle='-', linewidth=2,marker='o',label = 'KernelSHAP')\n",
    "plt.plot(depth, t_sec, linestyle='-', linewidth=2,marker='o',label = 'TreeSHAP')\n",
    "plt.legend(fontsize=15)\n",
    "\n",
    "plt.ylabel('Time (seconds)',size=20)\n",
    "plt.xlabel('Tree depth',size=20)"
   ]
  },
  {
   "cell_type": "code",
   "execution_count": null,
   "metadata": {},
   "outputs": [],
   "source": [
    "#Other factors\n",
    "r4 = results_4[['depth','avg_depth','avg_feat','avg_leaves']].groupby(by='depth',as_index=False).mean()\n",
    "\n",
    "fig, ax = plt.subplots(nrows=1, ncols=2,figsize=(20,10))\n",
    "\n",
    "ax[0].plot(r4['depth'], r4['avg_feat'], linestyle='-', linewidth=2,marker='o')\n",
    "ax[0].set_ylabel('Average features',size=20)\n",
    "ax[0].set_xlabel('Tree depth',size=20)\n",
    "\n",
    "ax[1].plot(r4['depth'], r4['avg_leaves'], color='#F87F0E', linewidth=2,marker='o')\n",
    "ax[1].set_ylabel('Average leaves',size=20)\n",
    "ax[1].set_xlabel('Tree depth',size=20)"
   ]
  },
  {
   "cell_type": "markdown",
   "metadata": {},
   "source": [
    "# Archive "
   ]
  },
  {
   "cell_type": "code",
   "execution_count": null,
   "metadata": {},
   "outputs": [],
   "source": [
    "#\n",
    "data = ds.make_regression(n_samples=10000, n_features=10, n_informative=8, n_targets=1)\n",
    "\n",
    "y= data[1]\n",
    "X = data[0]\n",
    "\n",
    "feature_names = range(len(X))\n",
    "\n",
    "depth = 10 # vary this value \n",
    "model = RandomForestRegressor(n_estimators=100,max_depth=depth,random_state=0)\n",
    "model.fit(X, y)\n",
    "\n",
    "model_properties(model)"
   ]
  },
  {
   "cell_type": "code",
   "execution_count": null,
   "metadata": {},
   "outputs": [],
   "source": [
    "#Simulate regression data\n",
    "data = ds.make_regression(n_samples=10000, n_features=20, n_informative=20, n_targets=1,noise=0.1)\n",
    "\n",
    "y= data[1]\n",
    "X = data[0]\n",
    "\n",
    "feature_names = range(len(X))\n",
    "\n",
    "#Train model\n",
    "model = RandomForestRegressor(n_estimators=100,max_depth=10,random_state=0)\n",
    "model.fit(X, y)\n",
    "\n",
    "#get model properties\n",
    "avg_depth, avg_feat, avg_leaves = model_properties(model)\n",
    "\n",
    "\n",
    "#Get shap estimators\n",
    "treeSHAP = shap.TreeExplainer(model)\n",
    "kernelSHAP = shap.KernelExplainer(model.predict,shap.sample(X, 20))\n",
    "\n",
    "#get shap values \n",
    "x_sample = X[np.random.choice(X.shape[0], 100, replace=True)]\n",
    "sv_tree = treeSHAP.shap_values(x_sample)\n",
    "sv_kernel = kernelSHAP.shap_values(x_sample,l1_reg=0.1)\n",
    "\n",
    "print(len(sv_tree[0]),len(sv_kernel[0]))"
   ]
  }
 ],
 "metadata": {
  "kernelspec": {
   "display_name": "SHAP",
   "language": "python",
   "name": "shap"
  },
  "language_info": {
   "codemirror_mode": {
    "name": "ipython",
    "version": 3
   },
   "file_extension": ".py",
   "mimetype": "text/x-python",
   "name": "python",
   "nbconvert_exporter": "python",
   "pygments_lexer": "ipython3",
   "version": "3.10.6"
  }
 },
 "nbformat": 4,
 "nbformat_minor": 2
}
