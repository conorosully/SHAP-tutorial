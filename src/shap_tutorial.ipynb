{
 "cells": [
  {
   "cell_type": "markdown",
   "metadata": {},
   "source": [
    "# SHAP Tutorial\n",
    "\n",
    "<br>\n",
    "Course sections:\n",
    "<ol>\n",
    "<li> SHAP values\n",
    "<li> SHAP aggregations\n",
    "    <ol>\n",
    "    <li> Force plots\n",
    "    <li> Mean SHAP\n",
    "    <li> Beeswarm\n",
    "    <li> Violin\n",
    "    <li> Heatmap\n",
    "    <li> Dependence\n",
    "    </ol>\n",
    "<li> Custom SHAP plots\n",
    "<li> Binary and mutliclass target variables \n",
    "<li> SHAP interaction values\n",
    "<li> Categorical features\n",
    "</ol>\n",
    "<br>\n",
    "<b>Dataset:</b> https://archive.ics.uci.edu/ml/datasets/Abalone\n"
   ]
  },
  {
   "cell_type": "code",
   "execution_count": null,
   "metadata": {},
   "outputs": [],
   "source": [
    "# imports\n",
    "import pandas as pd\n",
    "import numpy as np\n",
    "\n",
    "import matplotlib.pyplot as plt\n",
    "import seaborn as sns\n",
    "\n",
    "import xgboost as xgb\n",
    "\n",
    "import shap\n",
    "\n",
    "shap.initjs()"
   ]
  },
  {
   "cell_type": "markdown",
   "metadata": {},
   "source": [
    "# Dataset\n"
   ]
  },
  {
   "cell_type": "code",
   "execution_count": null,
   "metadata": {},
   "outputs": [],
   "source": [
    "# import dataset\n",
    "data = pd.read_csv(\n",
    "    \"../data/abalone.data\",\n",
    "    names=[\n",
    "        \"sex\",\n",
    "        \"length\",\n",
    "        \"diameter\",\n",
    "        \"height\",\n",
    "        \"whole weight\",\n",
    "        \"shucked weight\",\n",
    "        \"viscera weight\",\n",
    "        \"shell weight\",\n",
    "        \"rings\",\n",
    "    ],\n",
    ")\n",
    "\n",
    "print(len(data))\n",
    "data.head()"
   ]
  },
  {
   "cell_type": "code",
   "execution_count": null,
   "metadata": {},
   "outputs": [],
   "source": [
    "# plot 1: whole weight\n",
    "plt.scatter(data[\"whole weight\"], data[\"rings\"])\n",
    "plt.ylabel(\"rings\", size=20)\n",
    "plt.xlabel(\"whole weight\", size=20)"
   ]
  },
  {
   "cell_type": "code",
   "execution_count": null,
   "metadata": {},
   "outputs": [],
   "source": [
    "# plot 2: sex\n",
    "plt.boxplot(data[data.sex == \"I\"][\"rings\"], positions=[1])\n",
    "plt.boxplot(data[data.sex == \"M\"][\"rings\"], positions=[2])\n",
    "plt.boxplot(data[data.sex == \"F\"][\"rings\"], positions=[3])\n",
    "\n",
    "plt.xticks(ticks=[1, 2, 3], labels=[\"I\", \"M\", \"F\"], size=15)\n",
    "plt.ylabel(\"rings\", size=20)\n",
    "plt.xlabel(\"sex\", size=20)"
   ]
  },
  {
   "cell_type": "code",
   "execution_count": null,
   "metadata": {},
   "outputs": [],
   "source": [
    "# plot 3: Correlation heatmap\n",
    "cont = [\n",
    "    \"length\",\n",
    "    \"diameter\",\n",
    "    \"height\",\n",
    "    \"whole weight\",\n",
    "    \"shucked weight\",\n",
    "    \"viscera weight\",\n",
    "    \"shell weight\",\n",
    "    \"rings\",\n",
    "]\n",
    "corr_matrix = pd.DataFrame(data[cont], columns=cont).corr()\n",
    "\n",
    "sns.heatmap(corr_matrix, cmap=\"coolwarm\", center=0, annot=True, fmt=\".1g\")"
   ]
  },
  {
   "cell_type": "markdown",
   "metadata": {},
   "source": [
    "# Feature Engineering\n"
   ]
  },
  {
   "cell_type": "code",
   "execution_count": 6,
   "metadata": {},
   "outputs": [],
   "source": [
    "y = data[\"rings\"]\n",
    "X = data[[\"sex\", \"length\", \"height\", \"shucked weight\", \"viscera weight\", \"shell weight\"]]"
   ]
  },
  {
   "cell_type": "code",
   "execution_count": null,
   "metadata": {},
   "outputs": [],
   "source": [
    "# create dummy variables\n",
    "X[\"sex.M\"] = [1 if s == \"M\" else 0 for s in X[\"sex\"]]\n",
    "X[\"sex.F\"] = [1 if s == \"F\" else 0 for s in X[\"sex\"]]\n",
    "X[\"sex.I\"] = [1 if s == \"I\" else 0 for s in X[\"sex\"]]\n",
    "X = X.drop(\"sex\", axis=1)\n",
    "\n",
    "X.head()"
   ]
  },
  {
   "cell_type": "code",
   "execution_count": null,
   "metadata": {},
   "outputs": [],
   "source": [
    "features = X.copy()\n",
    "features['y'] = y\n",
    "\n",
    "features.head()"
   ]
  },
  {
   "cell_type": "markdown",
   "metadata": {},
   "source": [
    "# Modelling\n"
   ]
  },
  {
   "cell_type": "code",
   "execution_count": null,
   "metadata": {},
   "outputs": [],
   "source": [
    "# train model\n",
    "model = xgb.XGBRegressor(objective=\"reg:squarederror\")\n",
    "model.fit(X, y)"
   ]
  },
  {
   "cell_type": "code",
   "execution_count": null,
   "metadata": {},
   "outputs": [],
   "source": [
    "# get predictions\n",
    "y_pred = model.predict(X)\n",
    "\n",
    "# model evaluation\n",
    "plt.figure(figsize=(5, 5))\n",
    "\n",
    "plt.scatter(y, y_pred)\n",
    "plt.plot([0, 30], [0, 30], color=\"r\", linestyle=\"-\", linewidth=2)\n",
    "\n",
    "plt.ylabel(\"Predicted\", size=20)\n",
    "plt.xlabel(\"Actual\", size=20)"
   ]
  },
  {
   "cell_type": "markdown",
   "metadata": {},
   "source": [
    "# 1) Standard SHAP values\n"
   ]
  },
  {
   "cell_type": "code",
   "execution_count": 11,
   "metadata": {},
   "outputs": [],
   "source": [
    "# get shap values\n",
    "explainer = shap.Explainer(model)\n",
    "shap_values = explainer(X)\n",
    "\n",
    "# shap_values = explainer(X[0:100])"
   ]
  },
  {
   "cell_type": "code",
   "execution_count": null,
   "metadata": {},
   "outputs": [],
   "source": [
    "np.shape(shap_values.values)"
   ]
  },
  {
   "cell_type": "markdown",
   "metadata": {},
   "source": [
    "## Waterfall plot\n"
   ]
  },
  {
   "cell_type": "code",
   "execution_count": null,
   "metadata": {},
   "outputs": [],
   "source": [
    "# waterfall plot for first observation\n",
    "shap.plots.waterfall(shap_values[0])"
   ]
  },
  {
   "cell_type": "code",
   "execution_count": null,
   "metadata": {},
   "outputs": [],
   "source": [
    "# waterfall plot for first observation\n",
    "shap.plots.waterfall(shap_values[1], max_display=4)"
   ]
  },
  {
   "cell_type": "markdown",
   "metadata": {},
   "source": [
    "# 2) SHAP aggregations\n"
   ]
  },
  {
   "cell_type": "markdown",
   "metadata": {},
   "source": [
    "## Force plot\n"
   ]
  },
  {
   "cell_type": "code",
   "execution_count": null,
   "metadata": {},
   "outputs": [],
   "source": [
    "# force plot\n",
    "shap.plots.force(shap_values[0])"
   ]
  },
  {
   "cell_type": "markdown",
   "metadata": {},
   "source": [
    "## Stacked force plot\n"
   ]
  },
  {
   "cell_type": "code",
   "execution_count": null,
   "metadata": {},
   "outputs": [],
   "source": [
    "# stacked force plot\n",
    "shap.plots.force(shap_values[0:100])"
   ]
  },
  {
   "cell_type": "markdown",
   "metadata": {},
   "source": [
    "## Absolute Mean SHAP\n"
   ]
  },
  {
   "cell_type": "code",
   "execution_count": null,
   "metadata": {},
   "outputs": [],
   "source": [
    "# mean SHAP\n",
    "shap.plots.bar(shap_values)"
   ]
  },
  {
   "cell_type": "markdown",
   "metadata": {},
   "source": [
    "## Beeswarm plot\n"
   ]
  },
  {
   "cell_type": "code",
   "execution_count": null,
   "metadata": {},
   "outputs": [],
   "source": [
    "# beeswarm plot\n",
    "shap.plots.beeswarm(shap_values)"
   ]
  },
  {
   "cell_type": "markdown",
   "metadata": {},
   "source": [
    "## Violin plot\n"
   ]
  },
  {
   "cell_type": "code",
   "execution_count": null,
   "metadata": {},
   "outputs": [],
   "source": [
    "# violin plot\n",
    "shap.plots.violin(shap_values)"
   ]
  },
  {
   "cell_type": "code",
   "execution_count": null,
   "metadata": {},
   "outputs": [],
   "source": [
    "# layered violin plot\n",
    "shap.plots.violin(shap_values, plot_type=\"layered_violin\")"
   ]
  },
  {
   "cell_type": "markdown",
   "metadata": {},
   "source": [
    "## Heamap\n"
   ]
  },
  {
   "cell_type": "code",
   "execution_count": null,
   "metadata": {},
   "outputs": [],
   "source": [
    "# heatmap\n",
    "shap.plots.heatmap(shap_values)"
   ]
  },
  {
   "cell_type": "code",
   "execution_count": null,
   "metadata": {},
   "outputs": [],
   "source": [
    "# order by predictions\n",
    "order = np.argsort(y_pred)\n",
    "shap.plots.heatmap(shap_values, instance_order=order)"
   ]
  },
  {
   "cell_type": "code",
   "execution_count": null,
   "metadata": {},
   "outputs": [],
   "source": [
    "# order by shell weight value\n",
    "order = np.argsort(data[\"shell weight\"])\n",
    "shap.plots.heatmap(shap_values, instance_order=order)"
   ]
  },
  {
   "cell_type": "markdown",
   "metadata": {},
   "source": [
    "## Dependence plots\n"
   ]
  },
  {
   "cell_type": "code",
   "execution_count": null,
   "metadata": {},
   "outputs": [],
   "source": [
    "# plot 1: shell weight\n",
    "shap.plots.scatter(shap_values[:, \"shell weight\"])"
   ]
  },
  {
   "cell_type": "code",
   "execution_count": null,
   "metadata": {},
   "outputs": [],
   "source": [
    "shap.plots.scatter(\n",
    "    shap_values[:, \"shell weight\"], color=shap_values[:, \"shucked weight\"]\n",
    ")"
   ]
  },
  {
   "cell_type": "code",
   "execution_count": null,
   "metadata": {},
   "outputs": [],
   "source": [
    "# plot 2: shucked weight\n",
    "shap.plots.scatter(shap_values[:, \"shucked weight\"])"
   ]
  },
  {
   "cell_type": "markdown",
   "metadata": {},
   "source": [
    "# 3) Custom Plots\n"
   ]
  },
  {
   "cell_type": "code",
   "execution_count": null,
   "metadata": {},
   "outputs": [],
   "source": [
    "# output SHAP object\n",
    "shap_values"
   ]
  },
  {
   "cell_type": "code",
   "execution_count": null,
   "metadata": {},
   "outputs": [],
   "source": [
    "np.shape(shap_values.values)"
   ]
  },
  {
   "cell_type": "code",
   "execution_count": null,
   "metadata": {},
   "outputs": [],
   "source": [
    "# SHAP correlation plot\n",
    "corr_matrix = pd.DataFrame(shap_values.values, columns=X.columns).corr()\n",
    "\n",
    "sns.set(font_scale=1)\n",
    "sns.heatmap(corr_matrix, cmap=\"coolwarm\", center=0, annot=True, fmt=\".1g\")"
   ]
  },
  {
   "cell_type": "markdown",
   "metadata": {},
   "source": [
    "# 4) Binary and categorical target variables\n"
   ]
  },
  {
   "cell_type": "markdown",
   "metadata": {},
   "source": [
    "### Binary target variable\n"
   ]
  },
  {
   "cell_type": "code",
   "execution_count": 30,
   "metadata": {},
   "outputs": [],
   "source": [
    "# binary target varibale\n",
    "y_bin = [1 if y_ > 10 else 0 for y_ in y]"
   ]
  },
  {
   "cell_type": "code",
   "execution_count": null,
   "metadata": {},
   "outputs": [],
   "source": [
    "# train model\n",
    "model_bin = xgb.XGBClassifier(objective=\"binary:logistic\")\n",
    "model_bin.fit(X, y_bin)"
   ]
  },
  {
   "cell_type": "code",
   "execution_count": null,
   "metadata": {},
   "outputs": [],
   "source": [
    "# get shap values\n",
    "explainer = shap.Explainer(model_bin)\n",
    "shap_values_bin = explainer(X)\n",
    "\n",
    "print(shap_values_bin.shape)"
   ]
  },
  {
   "cell_type": "code",
   "execution_count": null,
   "metadata": {},
   "outputs": [],
   "source": [
    "# waterfall plot for first observation\n",
    "shap.plots.waterfall(shap_values_bin[0])"
   ]
  },
  {
   "cell_type": "code",
   "execution_count": null,
   "metadata": {},
   "outputs": [],
   "source": [
    "# waterfall plot for first observation\n",
    "shap.plots.force(shap_values_bin[0], link=\"logit\")"
   ]
  },
  {
   "cell_type": "code",
   "execution_count": null,
   "metadata": {},
   "outputs": [],
   "source": [
    "# waterfall plot for first observation\n",
    "shap.plots.bar(shap_values_bin)"
   ]
  },
  {
   "cell_type": "markdown",
   "metadata": {},
   "source": [
    "### Categorical target variables\n"
   ]
  },
  {
   "cell_type": "code",
   "execution_count": null,
   "metadata": {},
   "outputs": [],
   "source": [
    "# categorical target varibale\n",
    "y_cat = [2 if y_ > 12 else 1 if y_ > 8 else 0 for y_ in y]\n",
    "\n",
    "# train model\n",
    "model_cat = xgb.XGBClassifier(objective=\"binary:logistic\")\n",
    "model_cat.fit(X, y_cat)"
   ]
  },
  {
   "cell_type": "code",
   "execution_count": null,
   "metadata": {},
   "outputs": [],
   "source": [
    "# get probability predictions\n",
    "model_cat.predict_proba(X)[0]"
   ]
  },
  {
   "cell_type": "code",
   "execution_count": null,
   "metadata": {},
   "outputs": [],
   "source": [
    "# get shap values\n",
    "explainer = shap.Explainer(model_cat)\n",
    "shap_values_cat = explainer(X)\n",
    "\n",
    "print(np.shape(shap_values_cat))"
   ]
  },
  {
   "cell_type": "code",
   "execution_count": null,
   "metadata": {},
   "outputs": [],
   "source": [
    "# waterfall plot for first observation\n",
    "shap.plots.waterfall(shap_values_cat[0, :, 0])\n",
    "\n",
    "# waterfall plot for first observation\n",
    "shap.plots.waterfall(shap_values_cat[0, :, 1])\n",
    "\n",
    "# waterfall plot for first observation\n",
    "shap.plots.waterfall(shap_values_cat[0, :, 2])"
   ]
  },
  {
   "cell_type": "code",
   "execution_count": null,
   "metadata": {},
   "outputs": [],
   "source": [
    "def softmax(x):\n",
    "    \"\"\"Compute softmax values for each sets of scores in x.\"\"\"\n",
    "    e_x = np.exp(x - np.max(x))\n",
    "    return e_x / e_x.sum(axis=0)\n",
    "\n",
    "\n",
    "# convert softmax to probability\n",
    "x = [0.383, -0.106, 1.211]\n",
    "softmax(x)"
   ]
  },
  {
   "cell_type": "code",
   "execution_count": null,
   "metadata": {},
   "outputs": [],
   "source": [
    "# calculate mean SHAP values for each class\n",
    "mean_0 = np.mean(np.abs(shap_values_cat.values[:, :, 0]), axis=0)\n",
    "mean_1 = np.mean(np.abs(shap_values_cat.values[:, :, 1]), axis=0)\n",
    "mean_2 = np.mean(np.abs(shap_values_cat.values[:, :, 2]), axis=0)\n",
    "\n",
    "df = pd.DataFrame({\"young\": mean_0, \"medium\": mean_1, \"old\": mean_2})\n",
    "\n",
    "# plot mean SHAP values\n",
    "fig, ax = plt.subplots(1, 1, figsize=(20, 10))\n",
    "df.plot.bar(ax=ax)\n",
    "\n",
    "ax.set_ylabel(\"Mean SHAP\", size=30)\n",
    "ax.set_xticklabels(X.columns, rotation=45, size=20)\n",
    "ax.legend(fontsize=30)"
   ]
  },
  {
   "cell_type": "code",
   "execution_count": null,
   "metadata": {},
   "outputs": [],
   "source": [
    "# get model predictions\n",
    "preds = model_cat.predict(X)\n",
    "\n",
    "new_shap_values = []\n",
    "for i, pred in enumerate(preds):\n",
    "    # get shap values for predicted class\n",
    "    new_shap_values.append(shap_values_cat.values[i][:, pred])\n",
    "\n",
    "# replace shap values\n",
    "shap_values_cat.values = np.array(new_shap_values)\n",
    "print(shap_values_cat.shape)"
   ]
  },
  {
   "cell_type": "code",
   "execution_count": null,
   "metadata": {},
   "outputs": [],
   "source": [
    "shap.plots.bar(shap_values_cat)"
   ]
  },
  {
   "cell_type": "code",
   "execution_count": null,
   "metadata": {},
   "outputs": [],
   "source": [
    "shap.plots.beeswarm(shap_values_cat)"
   ]
  },
  {
   "cell_type": "markdown",
   "metadata": {},
   "source": [
    "# 5) SHAP interaction value\n"
   ]
  },
  {
   "cell_type": "code",
   "execution_count": 45,
   "metadata": {},
   "outputs": [],
   "source": [
    "# get SHAP interaction values\n",
    "explainer = shap.Explainer(model)\n",
    "shap_interaction = explainer.shap_interaction_values(X)"
   ]
  },
  {
   "cell_type": "code",
   "execution_count": null,
   "metadata": {},
   "outputs": [],
   "source": [
    "# get shape of interaction values\n",
    "np.shape(shap_interaction)"
   ]
  },
  {
   "cell_type": "code",
   "execution_count": null,
   "metadata": {},
   "outputs": [],
   "source": [
    "# SHAP interaction values for first employee\n",
    "shap_0 = np.round(shap_interaction[0], 2)\n",
    "pd.DataFrame(shap_0, index=X.columns, columns=X.columns)"
   ]
  },
  {
   "cell_type": "markdown",
   "metadata": {},
   "source": [
    "## Mean SHAP interaction values\n"
   ]
  },
  {
   "cell_type": "code",
   "execution_count": null,
   "metadata": {},
   "outputs": [],
   "source": [
    "# get absolute mean of matrices\n",
    "mean_shap = np.abs(shap_interaction).mean(0)\n",
    "mean_shap = np.round(mean_shap, 1)\n",
    "\n",
    "df = pd.DataFrame(mean_shap, index=X.columns, columns=X.columns)\n",
    "\n",
    "# times off diagonal by 2\n",
    "df.where(df.values == np.diagonal(df), df.values * 2, inplace=True)\n",
    "\n",
    "# display\n",
    "sns.set(font_scale=1)\n",
    "sns.heatmap(df, cmap=\"coolwarm\", annot=True)\n",
    "plt.yticks(rotation=0)"
   ]
  },
  {
   "cell_type": "markdown",
   "metadata": {},
   "source": [
    "## Dependence plot\n"
   ]
  },
  {
   "cell_type": "code",
   "execution_count": null,
   "metadata": {},
   "outputs": [],
   "source": [
    "shap.dependence_plot(\n",
    "    (\"shell weight\", \"shucked weight\"), shap_interaction, X, display_features=X\n",
    ")"
   ]
  },
  {
   "cell_type": "code",
   "execution_count": null,
   "metadata": {},
   "outputs": [],
   "source": [
    "# interaction between shell weight and shucked weight\n",
    "plt.scatter(data[\"shell weight\"], data[\"shucked weight\"], c=data[\"rings\"], cmap=\"bwr\")\n",
    "plt.colorbar(label=\"Number of Rings\", orientation=\"vertical\")\n",
    "\n",
    "plt.xlabel(\"shucked weight\", size=15)\n",
    "plt.ylabel(\"shell weight\", size=15)"
   ]
  },
  {
   "cell_type": "markdown",
   "metadata": {},
   "source": [
    "# 6) SHAP for categorical variables\n"
   ]
  },
  {
   "cell_type": "code",
   "execution_count": null,
   "metadata": {},
   "outputs": [],
   "source": [
    "X.head()"
   ]
  },
  {
   "cell_type": "code",
   "execution_count": null,
   "metadata": {},
   "outputs": [],
   "source": [
    "# Waterfall plot for first observation\n",
    "shap.plots.waterfall(shap_values[0])"
   ]
  },
  {
   "cell_type": "code",
   "execution_count": null,
   "metadata": {},
   "outputs": [],
   "source": [
    "new_shap_values = []\n",
    "\n",
    "# loop over all shap values:\n",
    "for values in shap_values.values:\n",
    "    # sum SHAP values for sex\n",
    "    sv = list(values)\n",
    "    sv = sv[0:5] + [sum(sv[5:8])]\n",
    "\n",
    "    new_shap_values.append(sv)"
   ]
  },
  {
   "cell_type": "code",
   "execution_count": null,
   "metadata": {},
   "outputs": [],
   "source": [
    "# replace shap values\n",
    "shap_values.values = np.array(new_shap_values)\n",
    "\n",
    "# replace data with categorical feature values\n",
    "X_cat = data[\n",
    "    [\"length\", \"height\", \"shucked weight\", \"viscera weight\", \"shell weight\", \"sex\"]\n",
    "]\n",
    "shap_values.data = np.array(X_cat)\n",
    "\n",
    "# update feature names\n",
    "shap_values.feature_names = list(X_cat.columns)"
   ]
  },
  {
   "cell_type": "code",
   "execution_count": null,
   "metadata": {},
   "outputs": [],
   "source": [
    "shap.plots.waterfall(shap_values[0])"
   ]
  },
  {
   "cell_type": "code",
   "execution_count": null,
   "metadata": {},
   "outputs": [],
   "source": [
    "shap.plots.bar(shap_values)"
   ]
  },
  {
   "cell_type": "code",
   "execution_count": null,
   "metadata": {},
   "outputs": [],
   "source": [
    "shap.plots.beeswarm(shap_values)"
   ]
  },
  {
   "cell_type": "code",
   "execution_count": null,
   "metadata": {},
   "outputs": [],
   "source": [
    "# get shaply values and data\n",
    "sex_values = shap_values[:, \"sex\"].values\n",
    "sex_data = shap_values[:, \"sex\"].data\n",
    "sex_categories = [\"I\", \"M\", \"F\"]\n",
    "\n",
    "# split sex shap values based on category\n",
    "sex_groups = []\n",
    "for s in sex_categories:\n",
    "    relevant_values = sex_values[sex_data == s]\n",
    "    sex_groups.append(relevant_values)\n",
    "\n",
    "# plot boxplot\n",
    "plt.boxplot(sex_groups, labels=sex_categories)\n",
    "\n",
    "plt.ylabel(\"SHAP values\", size=15)\n",
    "plt.xlabel(\"Sex\", size=15)"
   ]
  },
  {
   "cell_type": "code",
   "execution_count": null,
   "metadata": {},
   "outputs": [],
   "source": [
    "# create for placeholder SHAP values\n",
    "shap_values_sex = explainer(X)\n",
    "\n",
    "# get shaply values and data\n",
    "sex_values = shap_values[:, \"sex\"].values\n",
    "sex_data = shap_values[:, \"sex\"].data\n",
    "sex_categories = [\"I\", \"M\", \"F\"]\n",
    "\n",
    "# create new SHAP values array\n",
    "\n",
    "# split odor SHAP values by unique odor categories\n",
    "new_shap_values = [\n",
    "    np.array(pd.Series(sex_values)[sex_data == s]) for s in sex_categories\n",
    "]\n",
    "\n",
    "# each sublist needs to be the same length\n",
    "max_len = max([len(v) for v in new_shap_values])\n",
    "new_shap_values = [\n",
    "    np.append(vs, [np.nan] * (max_len - len(vs))) for vs in new_shap_values\n",
    "]\n",
    "new_shap_values = np.array(new_shap_values)\n",
    "\n",
    "# transpost matrix so categories are columns and SHAP values are rows\n",
    "new_shap_values = new_shap_values.transpose()\n",
    "\n",
    "# replace shap values\n",
    "shap_values_sex.values = np.array(new_shap_values)\n",
    "\n",
    "# replace data with placeholder array\n",
    "shap_values_sex.data = np.array([[0] * len(sex_categories)] * max_len)\n",
    "\n",
    "# replace base data with placeholder array\n",
    "shap_values_sex.base = np.array([0] * max_len)\n",
    "\n",
    "# replace feature names with category labels\n",
    "shap_values_sex.feature_names = list(sex_categories)\n",
    "\n",
    "# use beeswarm as before\n",
    "shap.plots.beeswarm(shap_values_sex, color_bar=False)"
   ]
  },
  {
   "cell_type": "code",
   "execution_count": null,
   "metadata": {},
   "outputs": [],
   "source": [
    "import warnings\n",
    "\n",
    "warnings.filterwarnings(\"ignore\")"
   ]
  }
 ],
 "metadata": {
  "kernelspec": {
   "display_name": "shap",
   "language": "python",
   "name": "shap"
  },
  "language_info": {
   "codemirror_mode": {
    "name": "ipython",
    "version": 3
   },
   "file_extension": ".py",
   "mimetype": "text/x-python",
   "name": "python",
   "nbconvert_exporter": "python",
   "pygments_lexer": "ipython3",
   "version": "3.10.4"
  }
 },
 "nbformat": 4,
 "nbformat_minor": 2
}
