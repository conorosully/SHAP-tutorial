{
 "cells": [
  {
   "cell_type": "markdown",
   "metadata": {},
   "source": [
    "# Project 2: mushroom classification\n",
    "<br>\n",
    "Use the SHAP analysis to answer the following questions:\n",
    "<ol>\n",
    "<li> For the first prediction, which feature has the most significant contribution?\n",
    "<li> Overall, which feature has the most significant contributions? \n",
    "<li> Which odors are associated with poisonous mushrooms? \n",
    "</ol>\n",
    "\n",
    "<b>Dataset:</b> https://www.kaggle.com/datasets/uciml/mushroom-classification"
   ]
  },
  {
   "cell_type": "code",
   "execution_count": null,
   "metadata": {},
   "outputs": [],
   "source": [
    "#imports\n",
    "import pandas as pd\n",
    "import numpy as np\n",
    "import matplotlib.pyplot as plt\n",
    "\n",
    "from catboost import CatBoostClassifier\n",
    "\n",
    "import shap\n",
    "\n",
    "from sklearn.metrics import accuracy_score,confusion_matrix"
   ]
  },
  {
   "cell_type": "code",
   "execution_count": null,
   "metadata": {},
   "outputs": [],
   "source": [
    "#load data \n",
    "data = pd.read_csv(\"../data/mushrooms.csv\")\n",
    "\n",
    "#get features\n",
    "y = data['class']\n",
    "y = y.astype('category').cat.codes\n",
    "X = data.drop('class', axis=1)\n",
    "\n",
    "\n",
    "print(len(data))\n",
    "data.head()"
   ]
  },
  {
   "cell_type": "code",
   "execution_count": null,
   "metadata": {
    "scrolled": true
   },
   "outputs": [],
   "source": [
    "model = CatBoostClassifier(iterations=20,\n",
    "                           learning_rate=0.01,\n",
    "                           depth=3)\n",
    "\n",
    "# train model\n",
    "cat_features = list(range(len(X.columns)))\n",
    "model.fit(X, y, cat_features)\n",
    "\n",
    "#Get predictions\n",
    "y_pred = model.predict(X)\n",
    "\n",
    "print(confusion_matrix(y, y_pred))\n",
    "accuracy_score(y, y_pred)"
   ]
  },
  {
   "cell_type": "markdown",
   "metadata": {},
   "source": [
    "# Standard SHAP values"
   ]
  },
  {
   "cell_type": "code",
   "execution_count": 4,
   "metadata": {},
   "outputs": [],
   "source": [
    "# get shap values\n",
    "explainer = shap.Explainer(model)\n",
    "shap_values = explainer(X)"
   ]
  },
  {
   "cell_type": "code",
   "execution_count": null,
   "metadata": {},
   "outputs": [],
   "source": [
    "#For the first prediction, which feature has the most significant contribution?"
   ]
  },
  {
   "cell_type": "code",
   "execution_count": null,
   "metadata": {},
   "outputs": [],
   "source": [
    "#Overall, which feature has the most significant contributions?"
   ]
  },
  {
   "cell_type": "code",
   "execution_count": null,
   "metadata": {},
   "outputs": [],
   "source": [
    "#Which odors are associated with poisonous mushrooms?"
   ]
  }
 ],
 "metadata": {
  "kernelspec": {
   "display_name": "SHAP",
   "language": "python",
   "name": "shap"
  },
  "language_info": {
   "codemirror_mode": {
    "name": "ipython",
    "version": 3
   },
   "file_extension": ".py",
   "mimetype": "text/x-python",
   "name": "python",
   "nbconvert_exporter": "python",
   "pygments_lexer": "ipython3",
   "version": "3.10.6"
  }
 },
 "nbformat": 4,
 "nbformat_minor": 2
}
