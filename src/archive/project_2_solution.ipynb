{
 "cells": [
  {
   "cell_type": "markdown",
   "metadata": {},
   "source": [
    "# Project 2: mushroom classification\n",
    "<br>\n",
    "Use the SHAP analysis to answer the following questions:\n",
    "<ol>\n",
    "<li> For the first prediction, which feature has the most significant contibution?\n",
    "<li> Overall, which feature has the most significant contributions? \n",
    "<li> Which odors are associated with poisonous mushrooms? \n",
    "</ol>\n",
    "\n",
    "<b>Dataset:</b> https://www.kaggle.com/datasets/uciml/mushroom-classification"
   ]
  },
  {
   "cell_type": "code",
   "execution_count": 1,
   "metadata": {},
   "outputs": [],
   "source": [
    "#imports\n",
    "import pandas as pd\n",
    "import numpy as np\n",
    "import matplotlib.pyplot as plt\n",
    "\n",
    "from catboost import CatBoostClassifier\n",
    "\n",
    "import shap\n",
    "\n",
    "from sklearn.metrics import accuracy_score,confusion_matrix"
   ]
  },
  {
   "cell_type": "code",
   "execution_count": null,
   "metadata": {},
   "outputs": [],
   "source": [
    "#load data \n",
    "data = pd.read_csv(\"../data/mushrooms.csv\")\n",
    "\n",
    "#get features\n",
    "y = data['class']\n",
    "y = y.astype('category').cat.codes\n",
    "X = data.drop('class', axis=1)\n",
    "\n",
    "# replace all categorical features with integer values\n",
    "for col in X.columns:\n",
    "    X[col] = X[col].astype('category').cat.codes\n",
    "\n",
    "\n",
    "print(len(data))\n",
    "X.head()"
   ]
  },
  {
   "cell_type": "markdown",
   "metadata": {},
   "source": [
    "# Standard SHAP values"
   ]
  },
  {
   "cell_type": "code",
   "execution_count": 4,
   "metadata": {},
   "outputs": [],
   "source": [
    "# get shap values\n",
    "explainer = shap.Explainer(model)\n",
    "shap_values = explainer(X)"
   ]
  },
  {
   "cell_type": "code",
   "execution_count": null,
   "metadata": {},
   "outputs": [],
   "source": [
    "#For the first prediction, which feature has the most significant contribution?\n",
    "#Answer: odor\n",
    "shap.plots.waterfall(shap_values[0],max_display=5)"
   ]
  },
  {
   "cell_type": "code",
   "execution_count": null,
   "metadata": {},
   "outputs": [],
   "source": [
    "#Overall, which feature has the most significant contributions?\n",
    "#Answer: odor\n",
    "shap.plots.bar(shap_values,show=False)"
   ]
  },
  {
   "cell_type": "code",
   "execution_count": null,
   "metadata": {},
   "outputs": [],
   "source": [
    "shap.plots.beeswarm(shap_values)"
   ]
  },
  {
   "cell_type": "code",
   "execution_count": null,
   "metadata": {},
   "outputs": [],
   "source": [
    "#Which odors are associated with poisonous mushrooms?\n",
    "#All the odors with SHAP values > 0 "
   ]
  },
  {
   "cell_type": "code",
   "execution_count": null,
   "metadata": {},
   "outputs": [],
   "source": [
    "#get shaply values and data\n",
    "odor_values = shap_values[:,4].values\n",
    "odor_data = X['odor']\n",
    "unique_odor = set(X['odor'])\n",
    "\n",
    "#split odor shap values based on odor category\n",
    "odor_categories = list(set(odor_data))\n",
    "\n",
    "odor_groups = []\n",
    "for o in odor_categories:\n",
    "    relevant_values = odor_values[odor_data == o]\n",
    "    odor_groups.append(relevant_values)\n",
    "    \n",
    "#replace categories with labels\n",
    "odor_labels = {'a':'almond',\n",
    "               'l':'anise', \n",
    "               'c':'creosote', \n",
    "               'y':'fishy', \n",
    "               'f':'foul', \n",
    "               'm':'musty', \n",
    "               'n':'none', \n",
    "               'p':'pungent', \n",
    "               's':'spicy'}\n",
    "\n",
    "labels = [odor_labels[u] for u in unique_odor]\n",
    "\n",
    "#plot boxplot\n",
    "plt.figure(figsize=(8, 5))\n",
    "\n",
    "plt.boxplot(odor_groups,labels=labels)\n",
    "\n",
    "plt.ylabel('SHAP values',size=15)\n",
    "plt.xlabel('Odor',size=15)"
   ]
  }
 ],
 "metadata": {
  "kernelspec": {
   "display_name": "xai",
   "language": "python",
   "name": "xai"
  },
  "language_info": {
   "codemirror_mode": {
    "name": "ipython",
    "version": 3
   },
   "file_extension": ".py",
   "mimetype": "text/x-python",
   "name": "python",
   "nbconvert_exporter": "python",
   "pygments_lexer": "ipython3",
   "version": "3.9.12"
  }
 },
 "nbformat": 4,
 "nbformat_minor": 2
}
