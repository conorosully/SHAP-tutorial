{
 "cells": [
  {
   "cell_type": "markdown",
   "metadata": {},
   "source": [
    "# Project 1: salary bonus\n",
    "<br>\n",
    "Use the SHAP analysis to answer the following questions:\n",
    "<ol>\n",
    "<li> Which features does NOT have a significant relationship with bonus?\n",
    "<li> What tends to happens to an employee's bonus as they gain more experience? \n",
    "<li> Are there any potential interactions in the dataset? \n",
    "</ol>\n",
    "<br>\n",
    "<b>Dataset:</b> https://www.kaggle.com/conorsully1/interaction-dataset"
   ]
  },
  {
   "cell_type": "code",
   "execution_count": null,
   "metadata": {},
   "outputs": [],
   "source": [
    "#imports\n",
    "import pandas as pd\n",
    "import numpy as np\n",
    "import matplotlib.pyplot as plt\n",
    "import seaborn as sns\n",
    "\n",
    "from sklearn.ensemble import RandomForestRegressor\n",
    "\n",
    "import shap\n",
    "shap.initjs()\n",
    "\n",
    "path = \"/Users/conorosully/Google Drive/My Drive/Medium/SHAP Interactions/Figures/{}\""
   ]
  },
  {
   "cell_type": "markdown",
   "metadata": {},
   "source": [
    "## Dataset"
   ]
  },
  {
   "cell_type": "code",
   "execution_count": null,
   "metadata": {},
   "outputs": [],
   "source": [
    "#import dataset\n",
    "data = pd.read_csv(\"../data/interaction_dataset.csv\",sep='\\t')\n",
    "\n",
    "y = data['bonus']\n",
    "X = data.drop('bonus', axis=1)\n",
    "\n",
    "print(len(data))\n",
    "data.head()"
   ]
  },
  {
   "cell_type": "markdown",
   "metadata": {},
   "source": [
    "## Modelling"
   ]
  },
  {
   "cell_type": "code",
   "execution_count": 3,
   "metadata": {},
   "outputs": [],
   "source": [
    "#Train model\n",
    "model = RandomForestRegressor(n_estimators=100) \n",
    "model.fit(X, y)\n",
    "\n",
    "#Get predictions\n",
    "y_pred = model.predict(X)"
   ]
  },
  {
   "cell_type": "code",
   "execution_count": null,
   "metadata": {},
   "outputs": [],
   "source": [
    "#Model evaluation\n",
    "fig, ax = plt.subplots(nrows=1, ncols=1,figsize=(8,8))\n",
    "\n",
    "plt.scatter(y,y_pred)\n",
    "plt.plot([0, 400], [0, 400], color='r', linestyle='-', linewidth=2)\n",
    "\n",
    "plt.ylabel('Predicted',size=20)\n",
    "plt.xlabel('Actual',size=20)"
   ]
  },
  {
   "cell_type": "markdown",
   "metadata": {},
   "source": [
    "## Standard SHAP  values"
   ]
  },
  {
   "cell_type": "code",
   "execution_count": 7,
   "metadata": {},
   "outputs": [],
   "source": [
    "#Get SHAP values\n",
    "explainer = shap.Explainer(model,X[0:10])\n",
    "shap_values = explainer(X)"
   ]
  },
  {
   "cell_type": "code",
   "execution_count": null,
   "metadata": {},
   "outputs": [],
   "source": [
    "# waterfall plot for first observation\n",
    "shap.plots.waterfall(shap_values[0])"
   ]
  },
  {
   "cell_type": "code",
   "execution_count": null,
   "metadata": {},
   "outputs": [],
   "source": [
    "# Which features do NOT have a significant relationship with bonus?\n",
    "# Answer: days_late\n",
    "shap.plots.bar(shap_values)"
   ]
  },
  {
   "cell_type": "code",
   "execution_count": null,
   "metadata": {},
   "outputs": [],
   "source": [
    "#What tends to happens to an employee's bonus as they gain more experience? \n",
    "# Answer: their bonus increases\n",
    "# You could have also used a dependency plot\n",
    "shap.plots.beeswarm(shap_values)"
   ]
  },
  {
   "cell_type": "markdown",
   "metadata": {},
   "source": [
    "## SHAP interaction values"
   ]
  },
  {
   "cell_type": "code",
   "execution_count": 9,
   "metadata": {},
   "outputs": [],
   "source": [
    "#Get SHAP interaction values\n",
    "explainer = shap.Explainer(model)\n",
    "shap_interaction = explainer.shap_interaction_values(X)"
   ]
  },
  {
   "cell_type": "code",
   "execution_count": null,
   "metadata": {},
   "outputs": [],
   "source": [
    "# Are there any potential interactions in the dataset? \n",
    "# Answer: yes - experience.degree & performance.sales"
   ]
  },
  {
   "cell_type": "code",
   "execution_count": null,
   "metadata": {},
   "outputs": [],
   "source": [
    "# Get absolute mean of matrices\n",
    "mean_shap = np.abs(shap_interaction).mean(0)\n",
    "df = pd.DataFrame(mean_shap,index=X.columns,columns=X.columns)\n",
    "\n",
    "# times off diagonal by 2\n",
    "df.where(df.values == np.diagonal(df),df.values*2,inplace=True)\n",
    "\n",
    "# display \n",
    "plt.figure(figsize=(10, 10), facecolor='w', edgecolor='k')\n",
    "sns.set(font_scale=1.5)\n",
    "sns.heatmap(df,cmap='coolwarm',annot=True,fmt='.3g',cbar=False)\n",
    "plt.yticks(rotation=0) "
   ]
  },
  {
   "cell_type": "code",
   "execution_count": null,
   "metadata": {},
   "outputs": [],
   "source": [
    "# Experience-degree depenence plot\n",
    "shap.dependence_plot(\n",
    "    (\"experience\", \"degree\"),\n",
    "    shap_interaction, X,\n",
    "    display_features=X)"
   ]
  },
  {
   "cell_type": "code",
   "execution_count": null,
   "metadata": {},
   "outputs": [],
   "source": [
    "# Performance-sales depenence plot\n",
    "shap.dependence_plot(\n",
    "    (\"performance\", \"sales\"),\n",
    "    shap_interaction, X,\n",
    "    display_features=X)"
   ]
  }
 ],
 "metadata": {
  "kernelspec": {
   "display_name": "shap",
   "language": "python",
   "name": "shap"
  },
  "language_info": {
   "codemirror_mode": {
    "name": "ipython",
    "version": 3
   },
   "file_extension": ".py",
   "mimetype": "text/x-python",
   "name": "python",
   "nbconvert_exporter": "python",
   "pygments_lexer": "ipython3",
   "version": "3.10.4"
  }
 },
 "nbformat": 4,
 "nbformat_minor": 2
}
